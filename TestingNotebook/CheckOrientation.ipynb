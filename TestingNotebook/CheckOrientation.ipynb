{
 "cells": [
  {
   "cell_type": "code",
   "execution_count": 1,
   "metadata": {},
   "outputs": [],
   "source": [
    "import sys\n",
    "import os\n",
    "\n",
    "current_directory = os.getcwd()\n",
    "path = os.path.dirname(current_directory)\n",
    "sys.path.append(path)\n",
    "from Utils import *\n",
    "\n",
    "%matplotlib widget\n",
    "from ipywidgets import interact, interactive, widgets\n",
    "from matplotlib.patches import Rectangle, Circle, Arrow"
   ]
  },
  {
   "cell_type": "code",
   "execution_count": 10,
   "metadata": {},
   "outputs": [
    {
     "name": "stdout",
     "output_type": "stream",
     "text": [
      "Reading labeled images from: /Users/pl771/Devel/MRINeedleSegmentation-LIVER/TestingNotebook\n"
     ]
    },
    {
     "data": {
      "application/vnd.jupyter.widget-view+json": {
       "model_id": "c68df68bae484e43ac4f87d4c29e1e28",
       "version_major": 2,
       "version_minor": 0
      },
      "text/plain": [
       "interactive(children=(IntSlider(value=1, description='z', max=2), Output()), _dom_classes=('widget-interact',)…"
      ]
     },
     "metadata": {},
     "output_type": "display_data"
    },
    {
     "data": {
      "application/vnd.jupyter.widget-view+json": {
       "model_id": "4725f12bf1624cea9c779cc5afc4321d",
       "version_major": 2,
       "version_minor": 0
      },
      "text/plain": [
       "interactive(children=(IntSlider(value=1, description='z', max=2), Output()), _dom_classes=('widget-interact',)…"
      ]
     },
     "metadata": {},
     "output_type": "display_data"
    }
   ],
   "source": [
    "import glob\n",
    "import os\n",
    "\n",
    "import tempfile\n",
    "import nibabel as nib\n",
    "import numpy as np\n",
    "import matplotlib.pyplot as plt\n",
    "from typing import Optional, Any, Mapping, Hashable\n",
    "\n",
    "import monai\n",
    "from monai.config import print_config\n",
    "from monai.utils import first\n",
    "from monai.config import KeysCollection\n",
    "from monai.data import Dataset, ArrayDataset, create_test_image_3d, DataLoader\n",
    "from monai.transforms import (\n",
    "    Transform,\n",
    "    Compose,\n",
    "    EnsureChannelFirst,\n",
    "    LoadImage,\n",
    "    Orientation,\n",
    ")\n",
    "from sitkIO import PushSitkImage\n",
    "\n",
    "# Load images\n",
    "srcdir = os.getcwd()\n",
    "\n",
    "print('Reading labeled images from: ' + srcdir)\n",
    "images = sorted(glob.glob(os.path.join(srcdir, 'test_dataset', '*_M.nii.gz')))\n",
    "labels = sorted(glob.glob(os.path.join(srcdir, 'test_dataset', '*_multi_label.nii.gz')))\n",
    "\n",
    "# Show original image\n",
    "sitk_image = sitk.ReadImage(images[0], sitk.sitkFloat32)\n",
    "show_image(sitk_image, 'Loaded sitk image from nii')\n",
    "\n",
    "# Create dictionary\n",
    "train_files = [\n",
    "    {'image': image_name, 'label': label_name}\n",
    "    for image_name, label_name in zip(images, labels)\n",
    "]\n",
    "\n",
    "img_file = train_files[0]['image']\n",
    "label_file = train_files[0]['label']\n",
    "fn_keys = ('image', 'label')  # filename keys for image and seg files\n",
    "\n",
    "transfTest = Compose([\n",
    "                        LoadImage(image_only=True),\n",
    "                        EnsureChannelFirst(channel_dim='no_channel'),\n",
    "                        Orientation(axcodes='LIP')\n",
    "                    ])\n",
    "img = transfTest(img_file)\n",
    "\n",
    "sitkTransform = PushSitkImage(resample=False, output_dtype=np.float32, print_log=False)\n",
    "sitk_output = sitkTransform(img)\n",
    "show_image(sitk_output, title= 'Image after PushSitk')\n",
    "\n",
    "\n",
    "\n"
   ]
  },
  {
   "cell_type": "code",
   "execution_count": null,
   "metadata": {},
   "outputs": [],
   "source": []
  }
 ],
 "metadata": {
  "kernelspec": {
   "display_name": "pytorch_m1",
   "language": "python",
   "name": "python3"
  },
  "language_info": {
   "codemirror_mode": {
    "name": "ipython",
    "version": 3
   },
   "file_extension": ".py",
   "mimetype": "text/x-python",
   "name": "python",
   "nbconvert_exporter": "python",
   "pygments_lexer": "ipython3",
   "version": "3.9.13"
  },
  "orig_nbformat": 4
 },
 "nbformat": 4,
 "nbformat_minor": 2
}
