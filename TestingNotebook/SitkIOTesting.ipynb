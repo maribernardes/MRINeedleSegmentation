{
 "cells": [
  {
   "cell_type": "code",
   "execution_count": 1,
   "metadata": {},
   "outputs": [],
   "source": [
    "import sys\n",
    "import os\n",
    "\n",
    "current_directory = os.getcwd()\n",
    "path = os.path.dirname(current_directory)\n",
    "sys.path.append(path)\n",
    "from Utils import *\n",
    "\n",
    "%matplotlib widget\n",
    "from ipywidgets import interact, interactive, widgets\n",
    "from matplotlib.patches import Rectangle, Circle, Arrow"
   ]
  },
  {
   "cell_type": "code",
   "execution_count": 6,
   "metadata": {},
   "outputs": [
    {
     "name": "stdout",
     "output_type": "stream",
     "text": [
      "Reading labeled images from: /Users/pl771/Devel/MRINeedleSegmentation/TestingNotebook\n"
     ]
    },
    {
     "data": {
      "application/vnd.jupyter.widget-view+json": {
       "model_id": "3b2b85b7f0664d899eb18e38edec468e",
       "version_major": 2,
       "version_minor": 0
      },
      "text/plain": [
       "interactive(children=(IntSlider(value=0, description='z', max=0), Output()), _dom_classes=('widget-interact',)…"
      ]
     },
     "metadata": {},
     "output_type": "display_data"
    },
    {
     "data": {
      "application/vnd.jupyter.widget-view+json": {
       "model_id": "7a01de29f8ea449680316a0713c502ec",
       "version_major": 2,
       "version_minor": 0
      },
      "text/plain": [
       "interactive(children=(IntSlider(value=1, description='z', max=2), Output()), _dom_classes=('widget-interact',)…"
      ]
     },
     "metadata": {},
     "output_type": "display_data"
    },
    {
     "name": "stdout",
     "output_type": "stream",
     "text": [
      "SimpleITK object sizes\n",
      "(192, 192, 1)\n",
      "(192, 192, 3)\n",
      "Metatensors for sitk before EnsureChannelFirst\n",
      "torch.Size([192, 192, 1])\n",
      "torch.Size([192, 192, 3])\n",
      "Metatensors (sitk) after EnsureChannelFirst\n",
      "torch.Size([1, 192, 192, 1])\n",
      "torch.Size([1, 192, 192, 3])\n"
     ]
    },
    {
     "data": {
      "application/vnd.jupyter.widget-view+json": {
       "model_id": "393180ec881f4b97888fb11f11faa314",
       "version_major": 2,
       "version_minor": 0
      },
      "text/plain": [
       "interactive(children=(IntSlider(value=0, description='z', max=0), Output()), _dom_classes=('widget-interact',)…"
      ]
     },
     "metadata": {},
     "output_type": "display_data"
    },
    {
     "data": {
      "application/vnd.jupyter.widget-view+json": {
       "model_id": "08e8e7c50c5a436989ba762231d5dd19",
       "version_major": 2,
       "version_minor": 0
      },
      "text/plain": [
       "interactive(children=(IntSlider(value=1, description='z', max=2), Output()), _dom_classes=('widget-interact',)…"
      ]
     },
     "metadata": {},
     "output_type": "display_data"
    },
    {
     "name": "stdout",
     "output_type": "stream",
     "text": [
      "Metatensors from nifti before EnsureChannelFirst\n",
      "torch.Size([192, 192, 1])\n",
      "torch.Size([192, 192, 3])\n",
      "{'image_1': metatensor([[[0.6790],\n",
      "         [0.6640],\n",
      "         [0.6646],\n",
      "         ...,\n",
      "         [0.0148],\n",
      "         [0.0218],\n",
      "         [0.0158]],\n",
      "\n",
      "        [[0.6475],\n",
      "         [0.6310],\n",
      "         [0.6579],\n",
      "         ...,\n",
      "         [0.0117],\n",
      "         [0.0185],\n",
      "         [0.0099]],\n",
      "\n",
      "        [[0.6291],\n",
      "         [0.6100],\n",
      "         [0.6505],\n",
      "         ...,\n",
      "         [0.0107],\n",
      "         [0.0099],\n",
      "         [0.0146]],\n",
      "\n",
      "        ...,\n",
      "\n",
      "        [[0.0132],\n",
      "         [0.0117],\n",
      "         [0.0224],\n",
      "         ...,\n",
      "         [0.0027],\n",
      "         [0.0039],\n",
      "         [0.0054]],\n",
      "\n",
      "        [[0.0138],\n",
      "         [0.0108],\n",
      "         [0.0221],\n",
      "         ...,\n",
      "         [0.0031],\n",
      "         [0.0028],\n",
      "         [0.0070]],\n",
      "\n",
      "        [[0.0169],\n",
      "         [0.0094],\n",
      "         [0.0180],\n",
      "         ...,\n",
      "         [0.0045],\n",
      "         [0.0086],\n",
      "         [0.0078]]]), 'image_2': metatensor([[[ 2.4066],\n",
      "         [ 2.4380],\n",
      "         [ 2.5111],\n",
      "         ...,\n",
      "         [-0.6273],\n",
      "         [-0.9303],\n",
      "         [-0.6187]],\n",
      "\n",
      "        [[ 2.4447],\n",
      "         [ 2.5057],\n",
      "         [ 2.6440],\n",
      "         ...,\n",
      "         [ 0.0805],\n",
      "         [ 0.2068],\n",
      "         [ 0.1140]],\n",
      "\n",
      "        [[ 2.4850],\n",
      "         [ 2.5694],\n",
      "         [ 2.7262],\n",
      "         ...,\n",
      "         [-0.6034],\n",
      "         [ 1.2395],\n",
      "         [ 1.9238]],\n",
      "\n",
      "        ...,\n",
      "\n",
      "        [[-2.6979],\n",
      "         [ 0.0355],\n",
      "         [-2.2003],\n",
      "         ...,\n",
      "         [ 1.6121],\n",
      "         [-0.6931],\n",
      "         [-0.3759]],\n",
      "\n",
      "        [[ 0.4432],\n",
      "         [-2.0154],\n",
      "         [-2.4842],\n",
      "         ...,\n",
      "         [ 1.6370],\n",
      "         [-0.3993],\n",
      "         [-0.4055]],\n",
      "\n",
      "        [[ 1.0202],\n",
      "         [-1.9559],\n",
      "         [-2.2405],\n",
      "         ...,\n",
      "         [ 1.1850],\n",
      "         [-0.7303],\n",
      "         [-1.5810]]])}\n",
      "Metatensors (nifti) after EnsureChannelFirst\n",
      "torch.Size([1, 192, 192, 1])\n",
      "torch.Size([1, 192, 192, 3])\n"
     ]
    },
    {
     "data": {
      "application/vnd.jupyter.widget-view+json": {
       "model_id": "b333eb9c2e194d579ac1bb552d980b92",
       "version_major": 2,
       "version_minor": 0
      },
      "text/plain": [
       "interactive(children=(IntSlider(value=0, description='z', max=0), Output()), _dom_classes=('widget-interact',)…"
      ]
     },
     "metadata": {},
     "output_type": "display_data"
    },
    {
     "data": {
      "application/vnd.jupyter.widget-view+json": {
       "model_id": "8f6026bc1ea549079af3a55eb361e14d",
       "version_major": 2,
       "version_minor": 0
      },
      "text/plain": [
       "interactive(children=(IntSlider(value=1, description='z', max=2), Output()), _dom_classes=('widget-interact',)…"
      ]
     },
     "metadata": {},
     "output_type": "display_data"
    }
   ],
   "source": [
    "import glob\n",
    "import os\n",
    "\n",
    "import tempfile\n",
    "import nibabel as nib\n",
    "import numpy as np\n",
    "import matplotlib.pyplot as plt\n",
    "from typing import Optional, Any, Mapping, Hashable\n",
    "\n",
    "import monai\n",
    "from monai.config import print_config\n",
    "from monai.utils import first\n",
    "from monai.config import KeysCollection\n",
    "from monai.data import Dataset, ArrayDataset, create_test_image_3d, DataLoader\n",
    "from monai.transforms import (\n",
    "    Transform,\n",
    "    Compose,\n",
    "    EnsureChannelFirst,\n",
    "    EnsureChannelFirstd,\n",
    "    LoadImage,\n",
    "    Orientation,\n",
    "    ConcatItemsd\n",
    ")\n",
    "from monaiUtils import MetatensorToSitk, SitkToMetatensor\n",
    "\n",
    "# Load images\n",
    "srcdir = os.getcwd()\n",
    "\n",
    "print('Reading labeled images from: ' + srcdir)\n",
    "images_1 = sorted(glob.glob(os.path.join(srcdir, 'test_dataset', '*_M.nii.gz')))\n",
    "images_2 = sorted(glob.glob(os.path.join(srcdir, 'test_dataset', '*_P.nii.gz')))\n",
    "labels = sorted(glob.glob(os.path.join(srcdir, 'test_dataset', '*_multi_label.nii.gz')))\n",
    "\n",
    "# Create dictionary for MONAI\n",
    "train_files = [\n",
    "    {'image_1': image_name_1, 'image_2': image_name_2}\n",
    "    for image_name_1, image_name_2 in zip(images_1, images_2)\n",
    "]\n",
    "img1_file_2d = train_files[0]['image_1']\n",
    "img2_file_2d = train_files[0]['image_2']\n",
    "\n",
    "img1_file_3d = train_files[1]['image_1']\n",
    "img2_file_3d = train_files[1]['image_2']\n",
    "\n",
    "# Load original image as SimpleITK object\n",
    "sitk_input_2d = sitk.ReadImage(images_1[0], sitk.sitkFloat32)\n",
    "show_image(sitk_input_2d, 'Loaded Mag 2D sitk image from nii')\n",
    "sitk_input_3d = sitk.ReadImage(images_1[1], sitk.sitkFloat32)\n",
    "show_image(sitk_input_3d, 'Loaded Mag 3D sitk image from nii')\n",
    "\n",
    "print('SimpleITK object sizes')\n",
    "print(sitk_input_2d.GetSize())\n",
    "print(sitk_input_3d.GetSize())\n",
    "\n",
    "\n",
    "# Get MONAI metatensor from sitk image\n",
    "metatensor_2d = SitkToMetatensor(sitk_input_2d)\n",
    "metatensor_3d = SitkToMetatensor(sitk_input_3d)\n",
    "print('Metatensors for sitk before EnsureChannelFirst')\n",
    "print(metatensor_2d.shape)\n",
    "print(metatensor_3d.shape)\n",
    "\n",
    "# Make it multi-channel\n",
    "multiChannel = EnsureChannelFirst(channel_dim='no_channel')\n",
    "metatensor_2d = multiChannel(metatensor_2d)\n",
    "metatensor_3d = multiChannel(metatensor_3d)\n",
    "print('Metatensors (sitk) after EnsureChannelFirst')\n",
    "print(metatensor_2d.shape)\n",
    "print(metatensor_3d.shape)\n",
    "\n",
    "# Output images\n",
    "sitk_output_2d = MetatensorToSitk(metatensor_2d)\n",
    "show_image(sitk_output_2d, title= 'Image 2D (sitk origin)')\n",
    "sitk_output_3d = MetatensorToSitk(metatensor_3d)\n",
    "show_image(sitk_output_3d, title= 'Image 3D (sitk origin)')\n",
    "\n",
    "\n",
    "# Now load from Nifti instead of using sitk object\n",
    "loadNifti = LoadImage(image_only=True)\n",
    "metatensor1_2d = loadNifti(img1_file_2d)\n",
    "metatensor2_2d = loadNifti(img2_file_2d)\n",
    "metatensor1_3d = loadNifti(img1_file_3d)\n",
    "metatensor2_3d = loadNifti(img2_file_3d)\n",
    "print('Metatensors from nifti before EnsureChannelFirst')\n",
    "print(metatensor1_2d.shape)\n",
    "print(metatensor1_3d.shape)\n",
    "\n",
    "# Create dictionary for MONAI transforms\n",
    "metatensor_2d = {'image_1': metatensor1_2d, 'image_2': metatensor2_2d}\n",
    "metatensor_3d = {'image_1': metatensor1_3d, 'image_2': metatensor2_3d}\n",
    "print(metatensor_2d)\n",
    "\n",
    "\n",
    "# Pre-array\n",
    "pre_array = [\n",
    "        EnsureChannelFirstd(keys=['image_1', 'image_2']), \n",
    "        ConcatItemsd(keys=['image_1', 'image_2'], name='image')\n",
    "    ]\n",
    "pre_transform = Compose(pre_array)\n",
    "metatensor_2d = pre_transform(metatensor_2d)\n",
    "metatensor_3d = pre_transform(metatensor_3d)\n",
    "print('Metatensors (nifti) after EnsureChannelFirst')\n",
    "print(metatensor_2d['image_1'].shape)\n",
    "print(metatensor_3d['image_1'].shape)\n",
    "\n",
    "# Output images\n",
    "sitk_output_2d = MetatensorToSitk(metatensor_2d['image'])\n",
    "show_image(sitk_output_2d, title= 'Image 2D (nifti origin)')\n",
    "sitk_output_3d = MetatensorToSitk(metatensor_3d['image'])\n",
    "show_image(sitk_output_3d, title= 'Image 3D (nifti origin)')\n"
   ]
  }
 ],
 "metadata": {
  "kernelspec": {
   "display_name": "pytorch_m1",
   "language": "python",
   "name": "python3"
  },
  "language_info": {
   "codemirror_mode": {
    "name": "ipython",
    "version": 3
   },
   "file_extension": ".py",
   "mimetype": "text/x-python",
   "name": "python",
   "nbconvert_exporter": "python",
   "pygments_lexer": "ipython3",
   "version": "3.9.13"
  }
 },
 "nbformat": 4,
 "nbformat_minor": 2
}
