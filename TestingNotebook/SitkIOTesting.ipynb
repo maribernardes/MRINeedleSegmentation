{
 "cells": [
  {
   "cell_type": "code",
   "execution_count": null,
   "metadata": {},
   "outputs": [],
   "source": [
    "import sys\n",
    "import os\n",
    "\n",
    "current_directory = os.getcwd()\n",
    "path = os.path.dirname(current_directory)\n",
    "sys.path.append(path)\n",
    "from Utils import *\n",
    "\n",
    "%matplotlib widget\n",
    "from ipywidgets import interact, interactive, widgets\n",
    "from matplotlib.patches import Rectangle, Circle, Arrow"
   ]
  },
  {
   "cell_type": "markdown",
   "metadata": {},
   "source": [
    "# Set paths and files"
   ]
  },
  {
   "cell_type": "code",
   "execution_count": null,
   "metadata": {},
   "outputs": [],
   "source": [
    "import glob\n",
    "import os\n",
    "\n",
    "import tempfile\n",
    "import nibabel as nib\n",
    "import numpy as np\n",
    "import matplotlib.pyplot as plt\n",
    "from typing import Optional, Any, Mapping, Hashable\n",
    "\n",
    "import monai\n",
    "from monai.config import print_config\n",
    "from monai.utils import first\n",
    "from monai.config import KeysCollection\n",
    "from monai.data import Dataset, ArrayDataset, create_test_image_3d, DataLoader\n",
    "from monai.transforms import (\n",
    "    Compose,\n",
    "    Orientationd,\n",
    "    EnsureChannelFirstd,\n",
    "    LoadImaged,\n",
    "    ConcatItemsd,\n",
    "    ScaleIntensityd,\n",
    "    Spacingd,\n",
    "    AsDiscreted,\n",
    "    SaveImaged,\n",
    "    SaveImage\n",
    ")\n",
    "from monaiUtils import MetatensorToSitk, SitkToMetatensor\n",
    "from sitkIO import LoadSitkImaged, PushSitkImaged, PushSitkImage\n",
    "\n",
    "# Load images\n",
    "print('Reading images from: ' + current_directory)\n",
    "images_1 = sorted(glob.glob(os.path.join(current_directory, 'test_dataset', '*_M.nii.gz')))\n",
    "images_2 = sorted(glob.glob(os.path.join(current_directory, 'test_dataset', '*_P.nii.gz')))\n",
    "\n",
    "\n",
    "# Create dictionary for MONAI\n",
    "select_image = 3 # train_files[0] = 2D images COR  / train_files[1] = 2D images SAG / train_files[2] = 3D images COR\n",
    "\n",
    "train_files = [\n",
    "    {'image_1': image_name_1, 'image_2': image_name_2}\n",
    "    for image_name_1, image_name_2 in zip(images_1, images_2)\n",
    "]\n",
    "\n",
    "print(images_1[select_image])\n",
    "# Load original image as SimpleITK object\n",
    "sitk_input_1 = sitk.ReadImage(images_1[select_image], sitk.sitkFloat32)\n",
    "sitk_input_2 = sitk.ReadImage(images_2[select_image], sitk.sitkFloat32)\n",
    "show_mag_phase_images(sitk_input_1, sitk_input_2, 'Loaded sitk image from nii')\n",
    "print('SimpleITK object sizes')\n",
    "print(sitk_input_1.GetSize())\n"
   ]
  },
  {
   "cell_type": "markdown",
   "metadata": {},
   "source": [
    "# Nifti file LoadImage"
   ]
  },
  {
   "cell_type": "code",
   "execution_count": null,
   "metadata": {},
   "outputs": [],
   "source": [
    "# Load from Nifti files\n",
    "loadNifti = Compose([LoadImaged(keys=['image_1', 'image_2'], image_only=True)])\n",
    "metatensor_nifti = loadNifti(train_files[select_image])\n",
    "\n",
    "print('Metatensors from nifti')\n",
    "print(metatensor_nifti['image_1'].shape)\n",
    "print(metatensor_nifti)"
   ]
  },
  {
   "cell_type": "markdown",
   "metadata": {},
   "source": [
    "# Sitk image LoadSitkImage"
   ]
  },
  {
   "cell_type": "code",
   "execution_count": null,
   "metadata": {},
   "outputs": [],
   "source": [
    "sitk_dict = {'image_1': sitk_input_1, 'image_2': sitk_input_2}\n",
    "\n",
    "loadSitk = Compose([LoadSitkImaged(keys=['image_1', 'image_2'], image_only=True)])\n",
    "metatensor_itkreader = loadSitk(sitk_dict)\n",
    "\n",
    "print('Metatensors from sitkReader')\n",
    "print(metatensor_itkreader['image_1'].shape)\n"
   ]
  },
  {
   "cell_type": "markdown",
   "metadata": {},
   "source": [
    "# Sitk image SitkToMetaTensor"
   ]
  },
  {
   "cell_type": "code",
   "execution_count": null,
   "metadata": {},
   "outputs": [],
   "source": [
    "# Get MONAI metatensor from sitk image\n",
    "metatensor_1, metatensor_1_dict = SitkToMetatensor(sitk_input_1)\n",
    "metatensor_2, metatensor_2_dict = SitkToMetatensor(sitk_input_2)\n",
    "\n",
    "print('Metatensors from sitk')\n",
    "print(metatensor_1.shape)\n",
    "\n",
    "metatensor_sitk = {'image_1': metatensor_1, 'image_2': metatensor_2}"
   ]
  },
  {
   "cell_type": "code",
   "execution_count": null,
   "metadata": {},
   "outputs": [],
   "source": [
    "pushTransf = Compose([PushSitkImaged(keys=['pred'], resample=False)])\n",
    "sitk_nifti = pushTransf(metatensor_nifti)\n",
    "\n",
    "print(sitk_nifti)"
   ]
  },
  {
   "cell_type": "code",
   "execution_count": null,
   "metadata": {},
   "outputs": [],
   "source": [
    "# Define Transforms\n",
    "if select_image==1: # SAG image\n",
    "  orientation = 'LIP'\n",
    "else:\n",
    "  orientation = 'PIL'\n",
    "if select_image==2: # 3D volume\n",
    "  pixdim = (6, 1.171875, 1.171875)\n",
    "else:\n",
    "  pixdim = (3.6, 1.171875, 1.171875)\n",
    "  \n",
    "# Ensure Channel First\n",
    "channelFirst = Compose([EnsureChannelFirstd(keys=['image_1', 'image_2'])])\n",
    "# Concatenate\n",
    "concatImages = Compose([ConcatItemsd(keys=['image_1', 'image_2'], name='image')])\n",
    "# Orientation and other\n",
    "preTransf = Compose([ ScaleIntensityd(keys=['image'], minv=0, maxv=1, channel_wise=True),\n",
    "                      # Orientationd(keys=['image'], axcodes=orientation),\n",
    "                      Spacingd(keys=['image'], pixdim=pixdim, mode=(\"bilinear\"))\n",
    "                    ])"
   ]
  },
  {
   "cell_type": "code",
   "execution_count": null,
   "metadata": {},
   "outputs": [],
   "source": [
    "# Transforms with Nifti\n",
    "metatensor_nifti = channelFirst(metatensor_nifti)\n",
    "print('Metatensors from nifti - Channel first')\n",
    "print(metatensor_nifti['image_1'].shape)\n",
    "\n",
    "metatensor_nifti = concatImages(metatensor_nifti)\n",
    "print('Metatensors from nifti - Concatenate')\n",
    "print(metatensor_nifti['image'].shape)\n",
    "\n",
    "metatensor_nifti = preTransf(metatensor_nifti)\n",
    "print('Metatensors from nifti - Pre-transforms (Orientation change to DHW)')\n",
    "print(metatensor_nifti['image'].shape)"
   ]
  },
  {
   "cell_type": "code",
   "execution_count": null,
   "metadata": {},
   "outputs": [],
   "source": [
    "# Transforms with Sikt\n",
    "metatensor_sitk = channelFirst(metatensor_sitk)\n",
    "print('Metatensors from sitk - Channel first')\n",
    "print(metatensor_sitk['image_1'].shape)\n",
    "\n",
    "metatensor_sitk = concatImages(metatensor_sitk)\n",
    "print('Metatensors from sitk - Concatenate')\n",
    "print(metatensor_sitk['image'].shape)\n",
    "\n",
    "metatensor_sitk = preTransf(metatensor_sitk)\n",
    "print('Metatensors from sitk - Pre-transforms')\n",
    "print(metatensor_sitk['image'].shape)"
   ]
  },
  {
   "cell_type": "code",
   "execution_count": null,
   "metadata": {},
   "outputs": [],
   "source": [
    "# Transforms with itkReader\n",
    "metatensor_itkreader = channelFirst(metatensor_itkreader)\n",
    "print('Metatensors from itkreader - Channel first')\n",
    "print(metatensor_itkreader['image_1'].shape)\n",
    "\n",
    "metatensor_itkreader = concatImages(metatensor_itkreader)\n",
    "print('Metatensors from itkreader - Concatenate')\n",
    "print(metatensor_itkreader['image'].shape)\n",
    "\n",
    "metatensor_itkreader = preTransf(metatensor_itkreader)\n",
    "print('Metatensors from itkreader - Pre-transforms')\n",
    "print(metatensor_itkreader['image'].shape)\n"
   ]
  },
  {
   "cell_type": "code",
   "execution_count": null,
   "metadata": {},
   "outputs": [],
   "source": [
    "# Check meta and sizes\n",
    "print(metatensor_nifti['image'].shape)\n",
    "print(metatensor_sitk['image'].shape)\n",
    "print(metatensor_itkreader['image'].shape)"
   ]
  },
  {
   "cell_type": "markdown",
   "metadata": {},
   "source": [
    "# UNet"
   ]
  },
  {
   "cell_type": "code",
   "execution_count": null,
   "metadata": {},
   "outputs": [],
   "source": [
    "# Choose source:\n",
    "metatensor = metatensor_itkreader\n",
    "\n",
    "import torch\n",
    "from monai.networks.nets import UNet \n",
    "from monai.networks.layers import Norm\n",
    "from monai.inferers import sliding_window_inference\n",
    "from monai.data import decollate_batch\n",
    "from monai.handlers.utils import from_engine\n",
    "\n",
    "# Setup UNet model\n",
    "if select_image == 2:\n",
    "    model_file= os.path.join(path, 'model_MP_multi_CEDice_3000_PIL_t3_noise_600epoch_Unet4_TEST.pth') #3D\n",
    "    window_size = (3,64,64)\n",
    "else:\n",
    "    model_file= os.path.join(path, 'model_MP_multi_CEDice_5500_PIL_t3_t6_BG11_noise_600epoch_Unet4_2D.pth') #2D\n",
    "    window_size = (1,64,64)\n",
    "\n",
    "model_unet = UNet(\n",
    "    spatial_dims=3,\n",
    "    in_channels=2,\n",
    "    out_channels=3,\n",
    "    channels=[16, 32, 64, 128], \n",
    "    strides=[(1, 2, 2), (1, 2, 2), (1, 1, 1)], \n",
    "    num_res_units=2,\n",
    "    norm=Norm.BATCH,\n",
    ")\n",
    "device = torch.device('cuda:0' if torch.cuda.is_available() else 'cpu')\n",
    "model = model_unet.to(device)\n",
    "\n",
    "# Evaluate model\n",
    "model.load_state_dict(torch.load(model_file, map_location=device))\n",
    "model.eval()\n",
    "with torch.no_grad():\n",
    "    batch_input = metatensor['image'].unsqueeze(0)\n",
    "    val_inputs = batch_input.to(torch.device('cpu'))\n",
    "    val_outputs = sliding_window_inference(val_inputs, window_size, 1, model)\n",
    "    metatensor['pred'] = val_outputs[0]\n",
    "    \n",
    "print('UNet output')\n",
    "print(metatensor['pred'].shape)"
   ]
  },
  {
   "cell_type": "code",
   "execution_count": null,
   "metadata": {},
   "outputs": [],
   "source": [
    "# Post Transform\n",
    "postTransf = Compose([  AsDiscreted(keys='pred', argmax=True, n_classes=3),\n",
    "                        PushSitkImaged(keys=['pred'], resample=True)\n",
    "                    ])\n",
    "metatensor = postTransf(metatensor)\n",
    "sitk_output =  metatensor['pred']\n",
    "\n",
    "print('Post-transform output')\n",
    "print(metatensor['pred'].GetSize())\n",
    "show_mag_phase_images(sitk_input_1, sitk_output, title= 'Needle segmentation', subtitles=['Input', 'Output'])\n"
   ]
  },
  {
   "cell_type": "code",
   "execution_count": null,
   "metadata": {},
   "outputs": [],
   "source": [
    "# Save output image\n",
    "file_name = os.path.basename(images_1[select_image])\n",
    "prefix_name = file_name.split('_M.nii.gz')[0]\n",
    "sitk.WriteImage(sitk_input_1, os.path.join(path, 'TestingNotebook', 'debug', str(select_image).zfill(3), prefix_name+'_M.nii.gz'))\n",
    "sitk.WriteImage(sitk_input_2, os.path.join(path, 'TestingNotebook', 'debug', str(select_image).zfill(3), prefix_name+'_P.nii.gz'))\n",
    "sitk.WriteImage(sitk_output, os.path.join(path, 'TestingNotebook', 'debug', str(select_image).zfill(3), prefix_name+'_seg.nii.gz'))"
   ]
  }
 ],
 "metadata": {
  "kernelspec": {
   "display_name": "pytorch_m1",
   "language": "python",
   "name": "python3"
  },
  "language_info": {
   "codemirror_mode": {
    "name": "ipython",
    "version": 3
   },
   "file_extension": ".py",
   "mimetype": "text/x-python",
   "name": "python",
   "nbconvert_exporter": "python",
   "pygments_lexer": "ipython3",
   "version": "3.9.13"
  }
 },
 "nbformat": 4,
 "nbformat_minor": 2
}
