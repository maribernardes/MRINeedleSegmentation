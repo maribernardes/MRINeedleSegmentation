{
 "cells": [
  {
   "cell_type": "code",
   "execution_count": 1,
   "metadata": {},
   "outputs": [],
   "source": [
    "import sys\n",
    "import os\n",
    "\n",
    "current_directory = os.getcwd()\n",
    "path = os.path.dirname(current_directory)\n",
    "sys.path.append(path)\n",
    "from Utils import *\n",
    "\n",
    "%matplotlib widget\n",
    "from ipywidgets import interact, interactive, widgets\n",
    "from matplotlib.patches import Rectangle, Circle, Arrow"
   ]
  },
  {
   "cell_type": "code",
   "execution_count": 2,
   "metadata": {},
   "outputs": [
    {
     "name": "stdout",
     "output_type": "stream",
     "text": [
      "Reading labeled images from: /Users/pl771/Devel/MRINeedleSegmentation/TestingNotebook\n"
     ]
    },
    {
     "data": {
      "application/vnd.jupyter.widget-view+json": {
       "model_id": "a668426e175c4689adc8895b8ecb96ac",
       "version_major": 2,
       "version_minor": 0
      },
      "text/plain": [
       "interactive(children=(IntSlider(value=0, description='z', max=0), Output()), _dom_classes=('widget-interact',)…"
      ]
     },
     "metadata": {},
     "output_type": "display_data"
    },
    {
     "data": {
      "application/vnd.jupyter.widget-view+json": {
       "model_id": "b2e0828294374b1f82c642f464dcca6d",
       "version_major": 2,
       "version_minor": 0
      },
      "text/plain": [
       "interactive(children=(IntSlider(value=1, description='z', max=2), Output()), _dom_classes=('widget-interact',)…"
      ]
     },
     "metadata": {},
     "output_type": "display_data"
    },
    {
     "name": "stdout",
     "output_type": "stream",
     "text": [
      "SimpleITK object sizes\n",
      "(192, 192, 1)\n",
      "(192, 192, 3)\n",
      "Metatensors for sitk before EnsureChannelFirst\n",
      "torch.Size([192, 192, 1])\n",
      "torch.Size([192, 192, 3])\n",
      "Metatensors (sitk) after EnsureChannelFirst\n",
      "torch.Size([1, 192, 192, 1])\n",
      "torch.Size([1, 192, 192, 3])\n"
     ]
    },
    {
     "data": {
      "application/vnd.jupyter.widget-view+json": {
       "model_id": "abfbe1986e964b9fa13f17030cbbd0f0",
       "version_major": 2,
       "version_minor": 0
      },
      "text/plain": [
       "interactive(children=(IntSlider(value=0, description='z', max=0), Output()), _dom_classes=('widget-interact',)…"
      ]
     },
     "metadata": {},
     "output_type": "display_data"
    },
    {
     "data": {
      "application/vnd.jupyter.widget-view+json": {
       "model_id": "2e1bfed989fe4e36b3ecb500c7296c40",
       "version_major": 2,
       "version_minor": 0
      },
      "text/plain": [
       "interactive(children=(IntSlider(value=1, description='z', max=2), Output()), _dom_classes=('widget-interact',)…"
      ]
     },
     "metadata": {},
     "output_type": "display_data"
    },
    {
     "name": "stdout",
     "output_type": "stream",
     "text": [
      "Metatensors from nifti before EnsureChannelFirst\n",
      "torch.Size([192, 192, 1])\n",
      "torch.Size([192, 192, 3])\n",
      "Metatensors (nifti) after EnsureChannelFirst\n",
      "torch.Size([1, 192, 192, 1])\n",
      "torch.Size([1, 192, 192, 3])\n"
     ]
    },
    {
     "data": {
      "application/vnd.jupyter.widget-view+json": {
       "model_id": "ed6559a5b8564a14947151a272c3e738",
       "version_major": 2,
       "version_minor": 0
      },
      "text/plain": [
       "interactive(children=(IntSlider(value=0, description='z', max=0), Output()), _dom_classes=('widget-interact',)…"
      ]
     },
     "metadata": {},
     "output_type": "display_data"
    },
    {
     "data": {
      "application/vnd.jupyter.widget-view+json": {
       "model_id": "90e23108361842ab8d23fc8358a17043",
       "version_major": 2,
       "version_minor": 0
      },
      "text/plain": [
       "interactive(children=(IntSlider(value=1, description='z', max=2), Output()), _dom_classes=('widget-interact',)…"
      ]
     },
     "metadata": {},
     "output_type": "display_data"
    }
   ],
   "source": [
    "import glob\n",
    "import os\n",
    "\n",
    "import tempfile\n",
    "import nibabel as nib\n",
    "import numpy as np\n",
    "import matplotlib.pyplot as plt\n",
    "from typing import Optional, Any, Mapping, Hashable\n",
    "\n",
    "import monai\n",
    "from monai.config import print_config\n",
    "from monai.utils import first\n",
    "from monai.config import KeysCollection\n",
    "from monai.data import Dataset, ArrayDataset, create_test_image_3d, DataLoader\n",
    "from monai.transforms import (\n",
    "    Transform,\n",
    "    Compose,\n",
    "    EnsureChannelFirst,\n",
    "    LoadImage,\n",
    "    Orientation,\n",
    ")\n",
    "from monaiUtils import MetatensorToSitk, SitkToMetatensor\n",
    "\n",
    "# Load images\n",
    "srcdir = os.getcwd()\n",
    "\n",
    "print('Reading labeled images from: ' + srcdir)\n",
    "images = sorted(glob.glob(os.path.join(srcdir, 'test_dataset', '*_M.nii.gz')))\n",
    "labels = sorted(glob.glob(os.path.join(srcdir, 'test_dataset', '*_multi_label.nii.gz')))\n",
    "\n",
    "# Create dictionary for MONAI\n",
    "train_files = [\n",
    "    {'image': image_name, 'label': label_name}\n",
    "    for image_name, label_name in zip(images, labels)\n",
    "]\n",
    "img_file_2d = train_files[0]['image']\n",
    "label_file_2d = train_files[0]['label']\n",
    "img_file_3d = train_files[1]['image']\n",
    "label_file_3d = train_files[1]['label']\n",
    "fn_keys = ('image', 'label')  # filename keys for image and seg files\n",
    "\n",
    "# Load original image as SimpleITK object\n",
    "sitk_input_2d = sitk.ReadImage(images[0], sitk.sitkFloat32)\n",
    "show_image(sitk_input_2d, 'Loaded 2D sitk image from nii')\n",
    "sitk_input_3d = sitk.ReadImage(images[1], sitk.sitkFloat32)\n",
    "show_image(sitk_input_3d, 'Loaded 3D sitk image from nii')\n",
    "\n",
    "print('SimpleITK object sizes')\n",
    "print(sitk_input_2d.GetSize())\n",
    "print(sitk_input_3d.GetSize())\n",
    "\n",
    "\n",
    "# Get MONAI metatensor from sitk image\n",
    "metatensor_2d = SitkToMetatensor(sitk_input_2d)\n",
    "metatensor_3d = SitkToMetatensor(sitk_input_3d)\n",
    "print('Metatensors for sitk before EnsureChannelFirst')\n",
    "print(metatensor_2d.shape)\n",
    "print(metatensor_3d.shape)\n",
    "\n",
    "# Make it multi-channel\n",
    "multiChannel = EnsureChannelFirst(channel_dim='no_channel')\n",
    "metatensor_2d = multiChannel(metatensor_2d)\n",
    "metatensor_3d = multiChannel(metatensor_3d)\n",
    "print('Metatensors (sitk) after EnsureChannelFirst')\n",
    "print(metatensor_2d.shape)\n",
    "print(metatensor_3d.shape)\n",
    "\n",
    "# Output images\n",
    "sitk_output_2d = MetatensorToSitk(metatensor_2d)\n",
    "show_image(sitk_output_2d, title= 'Image 2D (sitk origin)')\n",
    "sitk_output_3d = MetatensorToSitk(metatensor_3d)\n",
    "show_image(sitk_output_3d, title= 'Image 3D (sitk origin)')\n",
    "\n",
    "\n",
    "# Now load from Nifti instead of using sitk object\n",
    "loadNifti = LoadImage(image_only=True)\n",
    "metatensor_2d = loadNifti(img_file_2d)\n",
    "metatensor_3d = loadNifti(img_file_3d)\n",
    "print('Metatensors from nifti before EnsureChannelFirst')\n",
    "print(metatensor_2d.shape)\n",
    "print(metatensor_3d.shape)\n",
    "\n",
    "# Make it multi-channel\n",
    "multiChannel = EnsureChannelFirst(channel_dim='no_channel')\n",
    "metatensor_2d = multiChannel(metatensor_2d)\n",
    "metatensor_3d = multiChannel(metatensor_3d)\n",
    "print('Metatensors (nifti) after EnsureChannelFirst')\n",
    "print(metatensor_2d.shape)\n",
    "print(metatensor_3d.shape)\n",
    "\n",
    "# Output images\n",
    "sitk_output_2d = MetatensorToSitk(metatensor_2d)\n",
    "show_image(sitk_output_2d, title= 'Image 2D (nifti origin)')\n",
    "sitk_output_3d = MetatensorToSitk(metatensor_3d)\n",
    "show_image(sitk_output_3d, title= 'Image 3D (nifti origin)')\n"
   ]
  }
 ],
 "metadata": {
  "kernelspec": {
   "display_name": "pytorch_m1",
   "language": "python",
   "name": "python3"
  },
  "language_info": {
   "codemirror_mode": {
    "name": "ipython",
    "version": 3
   },
   "file_extension": ".py",
   "mimetype": "text/x-python",
   "name": "python",
   "nbconvert_exporter": "python",
   "pygments_lexer": "ipython3",
   "version": "3.9.13"
  }
 },
 "nbformat": 4,
 "nbformat_minor": 2
}
